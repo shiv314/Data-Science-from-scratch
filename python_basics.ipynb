{
 "cells": [
  {
   "cell_type": "markdown",
   "metadata": {},
   "source": [
    "A lot of languages use curly braces as delimiters but in python we use indentation\n",
    "A thing to note is that whitespaces are ignored inside brackets and parantheses. This helps for easier readability of code."
   ]
  },
  {
   "cell_type": "code",
   "execution_count": 1,
   "metadata": {},
   "outputs": [
    {
     "name": "stdout",
     "output_type": "stream",
     "text": [
      "1 4\n",
      "1 5\n",
      "1 6\n",
      "1 6\n",
      "2 4\n",
      "2 5\n",
      "2 6\n",
      "2 6\n",
      "3 4\n",
      "3 5\n",
      "3 6\n",
      "3 6\n"
     ]
    }
   ],
   "source": [
    "for i in [1,2,3]:      #first line for i block  \n",
    "    for j in [4,5,6]:  #first line for j block  \n",
    "        print(i,j)     #last line for j block   \n",
    "    print(i,j)         #last line for i block"
   ]
  },
  {
   "cell_type": "markdown",
   "metadata": {},
   "source": [
    "Importing modules in python is very important. Python has a lot of libraries written for it which can be used for faster implementation."
   ]
  },
  {
   "cell_type": "code",
   "execution_count": 4,
   "metadata": {},
   "outputs": [],
   "source": [
    "import re #this way you can import a module and then use its functions that are defined"
   ]
  },
  {
   "cell_type": "markdown",
   "metadata": {},
   "source": [
    "You should never import everything from a particular module like this from re import *. This can overwrite some variable/functions that you had already defined."
   ]
  },
  {
   "cell_type": "markdown",
   "metadata": {},
   "source": [
    "Next we move to Functions, Functions can be thought of as a black-box where you give it some input and you receive some output from it."
   ]
  },
  {
   "cell_type": "code",
   "execution_count": 7,
   "metadata": {},
   "outputs": [
    {
     "name": "stdout",
     "output_type": "stream",
     "text": [
      "14\n"
     ]
    }
   ],
   "source": [
    "def calculate_double(x): #This function takes x as an input and it returns the double of x\n",
    "    return x*2      \n",
    "\n",
    "print(calculate_double(7))     "
   ]
  },
  {
   "cell_type": "markdown",
   "metadata": {},
   "source": [
    "Strings"
   ]
  },
  {
   "cell_type": "code",
   "execution_count": null,
   "metadata": {},
   "outputs": [],
   "source": [
    "single_quoted_string = 'hello'\n",
    "double_quoted_string = \"hello\""
   ]
  },
  {
   "cell_type": "markdown",
   "metadata": {},
   "source": [
    "If you want a raw string, you can define it with a 'r' in the prefix"
   ]
  },
  {
   "cell_type": "code",
   "execution_count": null,
   "metadata": {},
   "outputs": [],
   "source": [
    "raw_string = r\"\\hello\""
   ]
  },
  {
   "cell_type": "markdown",
   "metadata": {},
   "source": [
    "Multi-line Strings can be formed using triple double quotes"
   ]
  },
  {
   "cell_type": "code",
   "execution_count": 8,
   "metadata": {},
   "outputs": [],
   "source": [
    "multiline_string = \"\"\"hey this is a multiline string as you can\n",
    "see, it is going to the next line!\"\"\""
   ]
  },
  {
   "cell_type": "markdown",
   "metadata": {},
   "source": [
    "Lists:\n",
    "These are the most fundamental data structures in python. What other programming languages call arrays, it is known as lists in python."
   ]
  },
  {
   "cell_type": "code",
   "execution_count": 9,
   "metadata": {},
   "outputs": [],
   "source": [
    "integer_list = [1, 2, 3]\n",
    "heterogeneous_list = [\"string\", 0.1, True]\n",
    "list_of_lists = [ integer_list, heterogeneous_list, [] ]\n",
    "list_length = len(integer_list) # equals 3\n",
    "list_sum = sum(integer_list) # equals 6"
   ]
  },
  {
   "cell_type": "markdown",
   "metadata": {},
   "source": [
    "Tuples: These are lists' immutable cousins. We can do all things same as the list but we cannot modify a tuple. The most important use of a tuple is to return values from a function."
   ]
  },
  {
   "cell_type": "code",
   "execution_count": 12,
   "metadata": {},
   "outputs": [
    {
     "name": "stdout",
     "output_type": "stream",
     "text": [
      "cannot change a tuple element\n"
     ]
    }
   ],
   "source": [
    "tuple_1 = (2,3)\n",
    "try:\n",
    "    tuple_1[0] = 1\n",
    "except:\n",
    "    print(\"cannot change a tuple element\")"
   ]
  },
  {
   "cell_type": "markdown",
   "metadata": {},
   "source": [
    "Dictionaries: This is another fundamental structure in Python which associates values with different keys. It is used to represent structured data in Data for example a JSON formart."
   ]
  },
  {
   "cell_type": "code",
   "execution_count": 17,
   "metadata": {},
   "outputs": [
    {
     "name": "stdout",
     "output_type": "stream",
     "text": [
      "100\n",
      "100\n",
      "0\n"
     ]
    }
   ],
   "source": [
    "scores = {\"Sachin\" : 100, \"Virat\": 99}\n",
    "print(scores['Sachin'])\n",
    "\n",
    "print(scores.get('Sachin'))\n",
    "print(scores.get('Raina',0)) #Another way to retrieve the value of a key is using the get method in dictionaries; if the key is not present in the disctionary, it returns the default value\n"
   ]
  },
  {
   "cell_type": "markdown",
   "metadata": {},
   "source": [
    "Dictionary keys must be immutable; in particular, you cannot use lists as keys."
   ]
  },
  {
   "cell_type": "markdown",
   "metadata": {},
   "source": [
    "Sets: This data structure represents a collection of distincgt elements. Sets are used when we want to check if a certain element is present in a collection or we want to find out the distinct elements in a collection"
   ]
  },
  {
   "cell_type": "code",
   "execution_count": 19,
   "metadata": {},
   "outputs": [
    {
     "name": "stdout",
     "output_type": "stream",
     "text": [
      "{1, 2}\n"
     ]
    }
   ],
   "source": [
    "s1 = set()\n",
    "s1.add(1)\n",
    "s1.add(2)\n",
    "s1.add(1)\n",
    "print(s1)"
   ]
  },
  {
   "cell_type": "markdown",
   "metadata": {},
   "source": [
    "Ternary Operators: This is a short hand way of writing an if-else statement in python"
   ]
  },
  {
   "cell_type": "code",
   "execution_count": 20,
   "metadata": {},
   "outputs": [
    {
     "name": "stdout",
     "output_type": "stream",
     "text": [
      "odd\n"
     ]
    }
   ],
   "source": [
    "parity = 'even' if 5%2==0 else 'odd'\n",
    "print(parity)"
   ]
  }
 ],
 "metadata": {
  "kernelspec": {
   "display_name": "Python 3",
   "language": "python",
   "name": "python3"
  },
  "language_info": {
   "codemirror_mode": {
    "name": "ipython",
    "version": 3
   },
   "file_extension": ".py",
   "mimetype": "text/x-python",
   "name": "python",
   "nbconvert_exporter": "python",
   "pygments_lexer": "ipython3",
   "version": "3.11.0"
  }
 },
 "nbformat": 4,
 "nbformat_minor": 2
}
