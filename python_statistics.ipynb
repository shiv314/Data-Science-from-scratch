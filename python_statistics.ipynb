{
 "cells": [
  {
   "cell_type": "markdown",
   "metadata": {},
   "source": [
    "# Statistics for Data Science"
   ]
  },
  {
   "cell_type": "markdown",
   "metadata": {},
   "source": [
    "## Central Tendencies"
   ]
  },
  {
   "cell_type": "markdown",
   "metadata": {},
   "source": [
    "### Mean\n",
    "\n",
    "When we want a notion of where our data is centered, we use mean"
   ]
  },
  {
   "cell_type": "code",
   "execution_count": 2,
   "metadata": {},
   "outputs": [
    {
     "data": {
      "text/plain": [
       "34.35294117647059"
      ]
     },
     "execution_count": 2,
     "metadata": {},
     "output_type": "execute_result"
    }
   ],
   "source": [
    "scores = [23, 45, 56, 78, 90, 110, 24, 34, 0, 8, 0, 11, 17, 19, 21, 23, 25] #Let this list be the batting scores of Virat Kohli\n",
    "\n",
    "def mean(x):\n",
    "    return sum(x)/len(x)\n",
    "\n",
    "mean(scores)\n"
   ]
  },
  {
   "cell_type": "markdown",
   "metadata": {},
   "source": [
    "### Median\n",
    "\n",
    "We are sometimes also interested in the middle-most value instead of the average. For odd number of points, it is the middle value while for even values, it is average of the 2 middle-most values"
   ]
  },
  {
   "cell_type": "code",
   "execution_count": 3,
   "metadata": {},
   "outputs": [
    {
     "data": {
      "text/plain": [
       "23"
      ]
     },
     "execution_count": 3,
     "metadata": {},
     "output_type": "execute_result"
    }
   ],
   "source": [
    "def median(x):\n",
    "    x = sorted(x)\n",
    "    if(len(x)%2==0):\n",
    "        return (x[len(x)//2] + x[len(x)//2 + 1])/2\n",
    "    else:\n",
    "        return (x[len(x)//2])\n",
    "\n",
    "median(scores)"
   ]
  },
  {
   "cell_type": "markdown",
   "metadata": {},
   "source": [
    "One thing to note here is that the mean is very sensitive to outliers; so it can paint a false picture of the central tendency. But the median might not be effected by outliers."
   ]
  },
  {
   "cell_type": "markdown",
   "metadata": {},
   "source": [
    "### Quantile\n",
    "\n",
    "A generalisation of the median is the quantile, which represents the value less than which a certain percentile of the data lies."
   ]
  },
  {
   "cell_type": "code",
   "execution_count": 6,
   "metadata": {},
   "outputs": [
    {
     "data": {
      "text/plain": [
       "45"
      ]
     },
     "execution_count": 6,
     "metadata": {},
     "output_type": "execute_result"
    }
   ],
   "source": [
    "def quantile(x, p):\n",
    "    \"\"\"returns the pth percentile value in x\"\"\"\n",
    "    p_index = int(p*len(x))\n",
    "    return sorted(x)[p_index - 1]\n",
    "\n",
    "quantile(scores, 0.8)"
   ]
  },
  {
   "cell_type": "markdown",
   "metadata": {},
   "source": [
    "### Mode\n",
    "Mode gives you the most-common values"
   ]
  },
  {
   "cell_type": "code",
   "execution_count": 8,
   "metadata": {},
   "outputs": [
    {
     "data": {
      "text/plain": [
       "[23, 0]"
      ]
     },
     "execution_count": 8,
     "metadata": {},
     "output_type": "execute_result"
    }
   ],
   "source": [
    "from collections import Counter\n",
    "def mode(x):\n",
    "    \"\"\"returns a list of the mode (there can be more than one mode)\"\"\"\n",
    "    counts = Counter(x)\n",
    "    modes = [x_i for x_i, val in counts.items() if val==max(counts.values())]\n",
    "    return modes\n",
    "\n",
    "mode(scores)"
   ]
  },
  {
   "cell_type": "markdown",
   "metadata": {},
   "source": [
    "## Dispersion\n",
    "This measures how spread out the data is in general"
   ]
  },
  {
   "cell_type": "markdown",
   "metadata": {},
   "source": [
    "### Range\n",
    "This is simply the difference between the maximum and the minimum value"
   ]
  },
  {
   "cell_type": "code",
   "execution_count": 9,
   "metadata": {},
   "outputs": [
    {
     "data": {
      "text/plain": [
       "110"
      ]
     },
     "execution_count": 9,
     "metadata": {},
     "output_type": "execute_result"
    }
   ],
   "source": [
    "def range(x):\n",
    "    return max(x) - min(x)\n",
    "\n",
    "range(scores)"
   ]
  },
  {
   "cell_type": "markdown",
   "metadata": {},
   "source": [
    "### Variance\n",
    "Variance is a more complex measure of dispersion. Here, it is almost the average squared deviation from the mean, except that we’re dividing by n-1 instead of n. In fact, when we’re dealing with a sample from a larger population, x_bar is only an estimate of the actual mean, which means that on average (x_i - x_bar) ** 2 is an underestimate of x_i’s squared deviation from the mean, which is why we divide by n-1 instead of n. The main premise here is that we tend to overestimate the actual mean of the sample from the true population and thereby underestimating the sum of squared values of the deviations."
   ]
  },
  {
   "cell_type": "code",
   "execution_count": 10,
   "metadata": {},
   "outputs": [
    {
     "data": {
      "text/plain": [
       "1004.6176470588235"
      ]
     },
     "execution_count": 10,
     "metadata": {},
     "output_type": "execute_result"
    }
   ],
   "source": [
    "def variance(x):\n",
    "    devs = [x_i - mean(x) for x_i in x]\n",
    "    return sum([x_i**2 for x_i in devs])/(len(x)-1)\n",
    "\n",
    "variance(scores)"
   ]
  },
  {
   "cell_type": "markdown",
   "metadata": {},
   "source": [
    "Here, the unit of variance is squared of the original units (scores squared), and because of this, we refer to standard deviation"
   ]
  },
  {
   "cell_type": "markdown",
   "metadata": {},
   "source": [
    "### Standard Deviation"
   ]
  },
  {
   "cell_type": "code",
   "execution_count": 11,
   "metadata": {},
   "outputs": [
    {
     "data": {
      "text/plain": [
       "31.695703921175557"
      ]
     },
     "execution_count": 11,
     "metadata": {},
     "output_type": "execute_result"
    }
   ],
   "source": [
    "import math\n",
    "def standard_deviation(x):\n",
    "    return math.sqrt(variance(x))\n",
    "\n",
    "standard_deviation(scores)"
   ]
  },
  {
   "cell_type": "markdown",
   "metadata": {},
   "source": [
    "## Correlation\n",
    "\n",
    "Let's say we want to examine the scores of Virat Kohli. We also have one more metric which is the number of protein bars that Virat Kohli ate before the match started. Let's find out if his performance is related to the number of bars he ate"
   ]
  },
  {
   "cell_type": "code",
   "execution_count": 12,
   "metadata": {},
   "outputs": [],
   "source": [
    "bars = [1,0,2,4,0,3,4,5,0,1,2,0,1,2,5,7]"
   ]
  },
  {
   "cell_type": "markdown",
   "metadata": {},
   "source": [
    "We will calculate the covariance first, this is the dot product of the deviations for both variables."
   ]
  },
  {
   "cell_type": "code",
   "execution_count": 13,
   "metadata": {},
   "outputs": [
    {
     "data": {
      "text/plain": [
       "4.957031249999998"
      ]
     },
     "execution_count": 13,
     "metadata": {},
     "output_type": "execute_result"
    }
   ],
   "source": [
    "def dot(x,y):\n",
    "    return sum([x_i*w_i for x_i,w_i in zip(x,y)])\n",
    "\n",
    "def covariance(x,y):\n",
    "    x_dev = [x_i-mean(x) for x_i in x]\n",
    "    y_dev = [y_i-mean(y) for y_i in y]\n",
    "    return dot(x_dev,y_dev)/(len(x)-1)\n",
    "\n",
    "covariance(scores,bars)\n"
   ]
  },
  {
   "cell_type": "markdown",
   "metadata": {},
   "source": [
    "Generally, a higher value of the positive covariance means that the 2 variables are postively related and vice-versa. But because of the units, it is very tough to understand/evaluate the meaning from it. Therefore, we divide the covariance by the standard deviation of both x & y to obtain the correlation."
   ]
  },
  {
   "cell_type": "code",
   "execution_count": 14,
   "metadata": {},
   "outputs": [
    {
     "data": {
      "text/plain": [
       "0.07268919291750593"
      ]
     },
     "execution_count": 14,
     "metadata": {},
     "output_type": "execute_result"
    }
   ],
   "source": [
    "def correlation(x,y):\n",
    "    return covariance(x,y)/standard_deviation(x)/standard_deviation(y)\n",
    "\n",
    "correlation(scores,bars)"
   ]
  },
  {
   "cell_type": "markdown",
   "metadata": {},
   "source": [
    "The correlation is unit-less and always lies between -1 and 1. Here, we observe a correlation of 0.072 which shows that there is very less correlation between the number of bars and scores of Virat Kohli :))"
   ]
  },
  {
   "cell_type": "markdown",
   "metadata": {},
   "source": [
    "One very common saying is that - \"Correlation is not Causation\". This means that if two variables are highly correlated, it does not necessarily mean that one variable caused the other or vice-versa. We cannot say with conclusion that eating more bars caused Kohli to score more runs or vice-versa. Correlations must first be confirmed as real, and every possible causative relationship must then be systematically explored"
   ]
  },
  {
   "cell_type": "code",
   "execution_count": null,
   "metadata": {},
   "outputs": [],
   "source": []
  }
 ],
 "metadata": {
  "kernelspec": {
   "display_name": "Python 3",
   "language": "python",
   "name": "python3"
  },
  "language_info": {
   "codemirror_mode": {
    "name": "ipython",
    "version": 3
   },
   "file_extension": ".py",
   "mimetype": "text/x-python",
   "name": "python",
   "nbconvert_exporter": "python",
   "pygments_lexer": "ipython3",
   "version": "3.11.0"
  }
 },
 "nbformat": 4,
 "nbformat_minor": 2
}
